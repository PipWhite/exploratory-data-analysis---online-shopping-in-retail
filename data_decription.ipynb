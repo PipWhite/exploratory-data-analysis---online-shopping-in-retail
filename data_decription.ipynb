{
 "cells": [
  {
   "cell_type": "markdown",
   "metadata": {},
   "source": [
    "# Data dictionary for online customer activity\n",
    "\n",
    "- **administrative**: Columns which indicates which administrative activity the user was performing on their account.\n",
    "- **administrative_duration**: How long a user performed administrative tasks in that session.\n",
    "- **informational**: Indicates which informational activity the user was performing on the website.\n",
    "- **informational_duration**: How long a users performed informational tasks in seconds during that session.\n",
    "- **product_related**: Indicates which product the user was viewing on the website.\n",
    "- **product_related_duration**: How long a user browsed products during that session. \n",
    "- **bounce_rates**: Historical bounce rate of that particular page for all users. They visited the directly and immediately exited.\n",
    "- **exit_rates**: Historical exit rate of the users from that particular page. \n",
    "- **page_values**: The average value contribution of a page to a customer sale\n",
    "- **month**: Month the users activity took place\n",
    "- **operating_systems**: Operating system the user was using\n",
    "- **browser**: The browser used by the user\n",
    "- **region**: The region the user originated from\n",
    "- **traffic_type**: How the user was redirected to the site\n",
    "- **visitor_type**: Whether a customer was is new/returning or other\n",
    "- **weekend**: Whether the activity only took place during the weekend\n",
    "- **revenue**: Whether the customer purchased anything that session"
   ]
  },
  {
   "cell_type": "markdown",
   "metadata": {},
   "source": []
  }
 ],
 "metadata": {
  "language_info": {
   "name": "python"
  }
 },
 "nbformat": 4,
 "nbformat_minor": 2
}
